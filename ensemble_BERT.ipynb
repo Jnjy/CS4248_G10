{
 "cells": [
  {
   "cell_type": "code",
   "execution_count": 1,
   "id": "cf12d3d6",
   "metadata": {},
   "outputs": [],
   "source": [
    "import collections\n",
    "import json\n",
    "import os\n",
    "import sys\n",
    "\n",
    "import numpy as np\n",
    "import torch\n",
    "from enum import Enum\n",
    "\n",
    "from datasets import Dataset, load_dataset, DatasetDict\n",
    "from tqdm.auto import tqdm\n",
    "from transformers import AutoModelForQuestionAnswering, TrainingArguments, DefaultDataCollator, AutoTokenizer, Trainer"
   ]
  },
  {
   "cell_type": "code",
   "execution_count": 2,
   "id": "a16257ea",
   "metadata": {},
   "outputs": [
    {
     "name": "stdout",
     "output_type": "stream",
     "text": [
      "BertTokenizerFast(name_or_path='.\\model\\bert-squad-baseline-model\\bert-squad-baseline-model', vocab_size=30522, model_max_length=512, is_fast=True, padding_side='right', truncation_side='right', special_tokens={'unk_token': '[UNK]', 'sep_token': '[SEP]', 'pad_token': '[PAD]', 'cls_token': '[CLS]', 'mask_token': '[MASK]'}, clean_up_tokenization_spaces=True),  added_tokens_decoder={\n",
      "\t0: AddedToken(\"[PAD]\", rstrip=False, lstrip=False, single_word=False, normalized=False, special=True),\n",
      "\t100: AddedToken(\"[UNK]\", rstrip=False, lstrip=False, single_word=False, normalized=False, special=True),\n",
      "\t101: AddedToken(\"[CLS]\", rstrip=False, lstrip=False, single_word=False, normalized=False, special=True),\n",
      "\t102: AddedToken(\"[SEP]\", rstrip=False, lstrip=False, single_word=False, normalized=False, special=True),\n",
      "\t103: AddedToken(\"[MASK]\", rstrip=False, lstrip=False, single_word=False, normalized=False, special=True),\n",
      "}\n"
     ]
    }
   ],
   "source": [
    "# load model from checkpoint\n",
    "model_checkpoint = os.path.join(\".\", \"model\", \"bert-squad-baseline-model\", \"bert-squad-baseline-model\")\n",
    "model = AutoModelForQuestionAnswering.from_pretrained(model_checkpoint)\n",
    "tokenizer = AutoTokenizer.from_pretrained(model_checkpoint)\n",
    "print(tokenizer)"
   ]
  },
  {
   "cell_type": "code",
   "execution_count": 3,
   "id": "a14955c5",
   "metadata": {},
   "outputs": [],
   "source": [
    "data_collator = DefaultDataCollator()\n",
    "\n",
    "training_args = TrainingArguments(\n",
    "    output_dir=\"../tmp/bert-squad-baseline-model\",\n",
    "    learning_rate=2e-5,\n",
    "    per_device_train_batch_size=8,\n",
    "    per_device_eval_batch_size=8,\n",
    "    num_train_epochs=3,\n",
    "    evaluation_strategy=\"epoch\",\n",
    "    weight_decay=0.01,\n",
    "    logging_strategy=\"epoch\",\n",
    "    save_strategy=\"epoch\",\n",
    ")\n",
    "\n",
    "trainer = Trainer(\n",
    "    model=model,\n",
    "    args=training_args,\n",
    "    data_collator=data_collator,\n",
    "    tokenizer=tokenizer,\n",
    ")\n"
   ]
  },
  {
   "cell_type": "code",
   "execution_count": 4,
   "id": "0f2dfa3f",
   "metadata": {},
   "outputs": [],
   "source": [
    "CWD = os.getcwd()\n",
    "\n",
    "'''\n",
    "Code largely follows huggingface @ https://colab.research.google.com/github/huggingface/notebooks/blob/main/examples/question_answering.ipynb#scrollTo=Xmr7_N7fMBIX\n",
    "'''\n",
    "class SQUAD():\n",
    "    class DataType(Enum):\n",
    "        TRAIN = 1\n",
    "        TEST = 2\n",
    "\n",
    "    def __init__(self, tokenizer):\n",
    "        self.tokenizer = tokenizer\n",
    "        \n",
    "        self.train_squad = open_file(\"C://Users//CShuwen//Desktop//Y3S1//CS4248//project//CS4248_G10//dataset//train-v1.1.json\")\n",
    "        # self.train_data = dataset_parse(self.train_squad).train_test_split(test_size=0.2)\n",
    "        self.train_data = dataset_parse(self.train_squad)\n",
    "\n",
    "        self.dev_squad = open_file(\"C://Users//CShuwen//Desktop//Y3S1//CS4248//project//CS4248_G10//dataset//dev-v1.1.json\")\n",
    "        self.dev_data = dataset_parse(self.dev_squad)\n",
    "\n",
    "        self.data = DatasetDict({\"train\": self.train_data, \"validation\": self.dev_data})\n",
    "\n",
    "    def prepare_train_features(self, examples):\n",
    "        # Some of the questions have lots of whitespace on the left, which is not useful and will make the\n",
    "        # truncation of the context fail (the tokenized question will take a lots of space). So we remove that\n",
    "        # left whitespace\n",
    "        examples[\"question\"] = [q.lstrip() for q in examples[\"question\"]]\n",
    "\n",
    "        # Tokenize our examples with truncation and padding, but keep the overflows using a stride. This results\n",
    "        # in one example possible giving several features when a context is long, each of those features having a\n",
    "        # context that overlaps a bit the context of the previous feature.\n",
    "        tokenized_examples = self.tokenizer(\n",
    "            examples[\"question\"],\n",
    "            examples[\"context\"],\n",
    "            truncation=\"only_second\",\n",
    "            max_length=384,\n",
    "            stride=128,\n",
    "            return_overflowing_tokens=True,\n",
    "            return_offsets_mapping=True,\n",
    "            padding=\"max_length\",\n",
    "        )\n",
    "\n",
    "        # Since one example might give us several features if it has a long context, we need a map from a feature to\n",
    "        # its corresponding example. This key gives us just that.\n",
    "        sample_mapping = tokenized_examples.pop(\"overflow_to_sample_mapping\")\n",
    "        # The offset mappings will give us a map from token to character position in the original context. This will\n",
    "        # help us compute the start_positions and end_positions.\n",
    "        offset_mapping = tokenized_examples.pop(\"offset_mapping\")\n",
    "\n",
    "        # Let's label those examples!\n",
    "        tokenized_examples[\"start_positions\"] = []\n",
    "        tokenized_examples[\"end_positions\"] = []\n",
    "\n",
    "        for i, offsets in enumerate(offset_mapping):\n",
    "            # We will label impossible answers with the index of the CLS token.\n",
    "            input_ids = tokenized_examples[\"input_ids\"][i]\n",
    "            cls_index = input_ids.index(self.tokenizer.cls_token_id)\n",
    "\n",
    "            # Grab the sequence corresponding to that example (to know what is the context and what is the question).\n",
    "            sequence_ids = tokenized_examples.sequence_ids(i)\n",
    "\n",
    "            # One example can give several spans, this is the index of the example containing this span of text.\n",
    "            sample_index = sample_mapping[i]\n",
    "            answers = examples[\"answers\"][sample_index]\n",
    "            # If no answers are given, set the cls_index as answer.\n",
    "            if len(answers[\"answer_start\"]) == 0:\n",
    "                tokenized_examples[\"start_positions\"].append(cls_index)\n",
    "                tokenized_examples[\"end_positions\"].append(cls_index)\n",
    "            else:\n",
    "                # Start/end character index of the answer in the text.\n",
    "                start_char = answers[\"answer_start\"][0]\n",
    "                end_char = start_char + len(answers[\"text\"][0])\n",
    "\n",
    "                # Start token index of the current span in the text.\n",
    "                token_start_index = 0\n",
    "                while sequence_ids[token_start_index] != 1:\n",
    "                    token_start_index += 1\n",
    "\n",
    "                # End token index of the current span in the text.\n",
    "                token_end_index = len(input_ids) - 1\n",
    "                while sequence_ids[token_end_index] != 1:\n",
    "                    token_end_index -= 1\n",
    "\n",
    "                # Detect if the answer is out of the span (in which case this feature is labeled with the CLS index).\n",
    "                if not (offsets[token_start_index][0] <= start_char and offsets[token_end_index][1] >= end_char):\n",
    "                    tokenized_examples[\"start_positions\"].append(cls_index)\n",
    "                    tokenized_examples[\"end_positions\"].append(cls_index)\n",
    "                else:\n",
    "                    # Otherwise move the token_start_index and token_end_index to the two ends of the answer.\n",
    "                    # Note: we could go after the last offset if the answer is the last word (edge case).\n",
    "                    while token_start_index < len(offsets) and offsets[token_start_index][0] <= start_char:\n",
    "                        token_start_index += 1\n",
    "                    tokenized_examples[\"start_positions\"].append(token_start_index - 1)\n",
    "                    while offsets[token_end_index][1] >= end_char:\n",
    "                        token_end_index -= 1\n",
    "                    tokenized_examples[\"end_positions\"].append(token_end_index + 1)\n",
    "\n",
    "        return tokenized_examples\n",
    "\n",
    "    def prepare_validation_features(self, examples):\n",
    "        # Some of the questions have lots of whitespace on the left, which is not useful and will make the\n",
    "        # truncation of the context fail (the tokenized question will take a lots of space). So we remove that\n",
    "        # left whitespace\n",
    "        examples[\"question\"] = [q.lstrip() for q in examples[\"question\"]]\n",
    "\n",
    "        # Tokenize our examples with truncation and maybe padding, but keep the overflows using a stride. This results\n",
    "        # in one example possible giving several features when a context is long, each of those features having a\n",
    "        # context that overlaps a bit the context of the previous feature.\n",
    "        tokenized_examples = self.tokenizer(\n",
    "            examples[\"question\"],\n",
    "            examples[\"context\"],\n",
    "            truncation=\"only_second\",\n",
    "            max_length=384,\n",
    "            stride=128,\n",
    "            return_overflowing_tokens=True,\n",
    "            return_offsets_mapping=True,\n",
    "            padding=\"max_length\",\n",
    "        )\n",
    "\n",
    "        # Since one example might give us several features if it has a long context, we need a map from a feature to\n",
    "        # its corresponding example. This key gives us just that.\n",
    "        sample_mapping = tokenized_examples.pop(\"overflow_to_sample_mapping\")\n",
    "\n",
    "        # We keep the example_id that gave us this feature and we will store the offset mappings.\n",
    "        tokenized_examples[\"example_id\"] = []\n",
    "\n",
    "        for i in range(len(tokenized_examples[\"input_ids\"])):\n",
    "            # Grab the sequence corresponding to that example (to know what is the context and what is the question).\n",
    "            sequence_ids = tokenized_examples.sequence_ids(i)\n",
    "            context_index = 1\n",
    "\n",
    "            # One example can give several spans, this is the index of the example containing this span of text.\n",
    "            sample_index = sample_mapping[i]\n",
    "            tokenized_examples[\"example_id\"].append(examples[\"id\"][sample_index])\n",
    "\n",
    "            # Set to None the offset_mapping that are not part of the context so it's easy to determine if a token\n",
    "            # position is part of the context or not.\n",
    "            tokenized_examples[\"offset_mapping\"][i] = [\n",
    "                (o if sequence_ids[k] == context_index else None)\n",
    "                for k, o in enumerate(tokenized_examples[\"offset_mapping\"][i])\n",
    "            ]\n",
    "\n",
    "        return tokenized_examples\n",
    "\n",
    "    def get_train_set(self):\n",
    "        ds = self.data\n",
    "        tokenized = ds.map(self.prepare_train_features, batched=True, remove_columns=ds[\"train\"].column_names)\n",
    "\n",
    "        return tokenized\n",
    "    \n",
    "    def get_test_set(self):\n",
    "        ds = self.data\n",
    "        validation_features = ds.map(\n",
    "            self.prepare_validation_features,\n",
    "            batched=True,\n",
    "            remove_columns=ds[\"validation\"].column_names\n",
    "        )\n",
    "\n",
    "        return validation_features\n",
    "    \n",
    "    def get_data(self):\n",
    "        return self.data\n",
    "\n",
    "def open_file(file_path):\n",
    "    try:\n",
    "        f = open(file_path)\n",
    "        dataset = json.load(f, strict=False)[\"data\"]\n",
    "        return dataset\n",
    "    except:\n",
    "        print(\"Invalid file path.\")\n",
    "\n",
    "def dataset_parse(dataset):\n",
    "    ids = []\n",
    "    titles = []\n",
    "    contexts = []\n",
    "    questions = []\n",
    "    answers = []\n",
    "\n",
    "    for data in dataset:\n",
    "        for p in data[\"paragraphs\"]:\n",
    "            for pqas in p[\"qas\"]:\n",
    "                titles.append(data[\"title\"])\n",
    "                contexts.append(p[\"context\"])\n",
    "                ids.append(pqas[\"id\"])\n",
    "                questions.append(pqas[\"question\"])\n",
    "\n",
    "                text = []\n",
    "                answer_start = []\n",
    "                for ans in pqas[\"answers\"]:\n",
    "                    text.append(ans[\"text\"])\n",
    "                    answer_start.append(ans[\"answer_start\"])\n",
    "                \n",
    "                ans = dict({'text': text, 'answer_start': answer_start})\n",
    "                answers.append(ans)\n",
    "\n",
    "    parsed_data = dict({'id': ids, 'title': titles, 'context': contexts, 'question': questions, 'answers': answers})\n",
    "\n",
    "    return Dataset.from_dict(parsed_data)"
   ]
  },
  {
   "cell_type": "code",
   "execution_count": 5,
   "id": "3b8bb8f1",
   "metadata": {},
   "outputs": [
    {
     "name": "stderr",
     "output_type": "stream",
     "text": [
      "C:\\Users\\CShuwen\\anaconda3\\lib\\site-packages\\dill\\_dill.py:412: PicklingWarning: Cannot locate reference to <enum 'DataType'>.\n",
      "  StockPickler.save(self, obj, save_persistent_id)\n",
      "C:\\Users\\CShuwen\\anaconda3\\lib\\site-packages\\dill\\_dill.py:412: PicklingWarning: Cannot pickle <enum 'DataType'>: __main__.SQUAD.DataType has recursive self-references that trigger a RecursionError.\n",
      "  StockPickler.save(self, obj, save_persistent_id)\n"
     ]
    },
    {
     "data": {
      "application/vnd.jupyter.widget-view+json": {
       "model_id": "72b4b83436384bf6b15d89b4fe4b5d42",
       "version_major": 2,
       "version_minor": 0
      },
      "text/plain": [
       "Map:   0%|          | 0/87599 [00:00<?, ? examples/s]"
      ]
     },
     "metadata": {},
     "output_type": "display_data"
    },
    {
     "data": {
      "application/vnd.jupyter.widget-view+json": {
       "model_id": "3c03a3cd6ac044b098ac3d451d12b1a3",
       "version_major": 2,
       "version_minor": 0
      },
      "text/plain": [
       "Map:   0%|          | 0/10570 [00:00<?, ? examples/s]"
      ]
     },
     "metadata": {},
     "output_type": "display_data"
    }
   ],
   "source": [
    "squad = SQUAD(tokenizer)\n",
    "tokenized_test_dataset = squad.get_test_set()[\"validation\"]\n",
    "tokenized_test_dataset.set_format(type=tokenized_test_dataset.format[\"type\"], columns=list(tokenized_test_dataset.features.keys()))"
   ]
  },
  {
   "cell_type": "code",
   "execution_count": 6,
   "id": "dec38112",
   "metadata": {},
   "outputs": [],
   "source": [
    "# Adapted from: https://colab.research.google.com/github/huggingface/notebooks/blob/main/examples/question_answering.ipynb#scrollTo=uGbzZDy1qcS9\n",
    "def postprocess_qa_predictions(examples, features, raw_predictions, n_best_size=20, max_answer_length=30):\n",
    "    all_start_logits, all_end_logits = raw_predictions\n",
    "    # Build a map example to its corresponding features.\n",
    "    example_id_to_index = {k: i for i, k in enumerate(examples[\"id\"])}\n",
    "    features_per_example = collections.defaultdict(list)\n",
    "    for i, feature in enumerate(features):\n",
    "        features_per_example[example_id_to_index[feature[\"example_id\"]]].append(i)\n",
    "\n",
    "    # The dictionaries we have to fill.\n",
    "    predictions = collections.OrderedDict()\n",
    "\n",
    "    # Let's loop over all the examples!\n",
    "    for example_index, example in enumerate(tqdm(examples)):\n",
    "        # Those are the indices of the features associated to the current example.\n",
    "        feature_indices = features_per_example[example_index]\n",
    "\n",
    "        min_null_score = None  # Only used if squad_v2 is True.\n",
    "        valid_answers = []\n",
    "\n",
    "        context = example[\"context\"]\n",
    "        # Looping through all the features associated to the current example.\n",
    "        for feature_index in feature_indices:\n",
    "            # We grab the predictions of the model for this feature.\n",
    "            start_logits = all_start_logits[feature_index]\n",
    "            end_logits = all_end_logits[feature_index]\n",
    "            # This is what will allow us to map some the positions in our logits to span of texts in the original\n",
    "            # context.\n",
    "            offset_mapping = features[feature_index][\"offset_mapping\"]\n",
    "\n",
    "            # Go through all possibilities for the `n_best_size` greater start and end logits.\n",
    "            start_indexes = np.argsort(start_logits)[-1: -n_best_size - 1: -1].tolist()\n",
    "            end_indexes = np.argsort(end_logits)[-1: -n_best_size - 1: -1].tolist()\n",
    "            for start_index in start_indexes:\n",
    "                for end_index in end_indexes:\n",
    "                    # Don't consider out-of-scope answers, either because the indices are out of bounds or correspond\n",
    "                    # to part of the input_ids that are not in the context.\n",
    "                    if (\n",
    "                            start_index >= len(offset_mapping)\n",
    "                            or end_index >= len(offset_mapping)\n",
    "                            or offset_mapping[start_index] is None\n",
    "                            or offset_mapping[end_index] is None\n",
    "                    ):\n",
    "                        continue\n",
    "                    # Don't consider answers with a length that is either < 0 or > max_answer_length.\n",
    "                    if end_index < start_index or end_index - start_index + 1 > max_answer_length:\n",
    "                        continue\n",
    "\n",
    "                    start_char = offset_mapping[start_index][0]\n",
    "                    end_char = offset_mapping[end_index][1]\n",
    "                    valid_answers.append(\n",
    "                        {\n",
    "                            \"score\": start_logits[start_index] + end_logits[end_index],\n",
    "                            \"text\": context[start_char: end_char]\n",
    "                        }\n",
    "                    )\n",
    "\n",
    "        if len(valid_answers) > 0:\n",
    "            best_answer = sorted(valid_answers, key=lambda x: x[\"score\"], reverse=True)[0]\n",
    "        else:\n",
    "            # In the very rare edge case we have not a single non-null prediction, we create a fake prediction to avoid\n",
    "            # failure.\n",
    "            best_answer = {\"text\": \"\", \"score\": 0.0}\n",
    "\n",
    "        predictions[example[\"id\"]] = best_answer[\"text\"]\n",
    "\n",
    "    return predictions\n",
    "\n",
    "# Predict output\n"
   ]
  },
  {
   "cell_type": "code",
   "execution_count": 7,
   "id": "0d3bfdf0",
   "metadata": {},
   "outputs": [
    {
     "data": {
      "text/html": [],
      "text/plain": [
       "<IPython.core.display.HTML object>"
      ]
     },
     "metadata": {},
     "output_type": "display_data"
    },
    {
     "name": "stdout",
     "output_type": "stream",
     "text": [
      "None\n"
     ]
    }
   ],
   "source": [
    "raw_predictions = trainer.predict(tokenized_test_dataset)\n"
   ]
  },
  {
   "cell_type": "code",
   "execution_count": 11,
   "id": "858c1bed",
   "metadata": {},
   "outputs": [
    {
     "data": {
      "application/vnd.jupyter.widget-view+json": {
       "model_id": "6a89734d82a5409799f3d86e71526992",
       "version_major": 2,
       "version_minor": 0
      },
      "text/plain": [
       "  0%|          | 0/10570 [00:00<?, ?it/s]"
      ]
     },
     "metadata": {},
     "output_type": "display_data"
    }
   ],
   "source": [
    "final_predictions = postprocess_qa_predictions(squad.get_data()[\"validation\"], tokenized_test_dataset, raw_predictions.predictions)\n"
   ]
  },
  {
   "cell_type": "code",
   "execution_count": null,
   "id": "eacde394",
   "metadata": {},
   "outputs": [],
   "source": []
  },
  {
   "cell_type": "code",
   "execution_count": 32,
   "id": "5f874e0c",
   "metadata": {},
   "outputs": [],
   "source": [
    "start_logit_1, end_logit_1 = raw_predictions.predictions\n",
    "\n",
    "with open(CWD + \"/result/start_logit.txt\", 'w', encoding='utf-8') as file:\n",
    "    file.write(\"===start logit===\\n\")\n",
    "    #for logit in start_logit_1:\n",
    "    for i in range (len(squad.get_data()[\"validation\"])):\n",
    "        res = \"[\"\n",
    "\n",
    "        for number in start_logit_1[i]:\n",
    "            res += f'{number}, '\n",
    "\n",
    "        res += \"]\\n\"\n",
    "        par = squad.get_data()[\"validation\"][i]\n",
    "        file.write(f'{par[\"context\"]}\\n')\n",
    "        file.write(res)\n",
    "\n",
    "    file.close()\n",
    "\n",
    "with open(CWD + \"/result/end_logit.txt\", 'w', encoding='utf-8') as file:\n",
    "    file.write(\"===end_logit===\\n\")\n",
    "    #for logit in end_logit_1:\n",
    "    for i in range(len(squad.get_data()[\"validation\"])):\n",
    "        res = \"[\"\n",
    "\n",
    "        for number in end_logit_1[i]:\n",
    "            res += f'{number}, '\n",
    "\n",
    "        res += \"]\\n\"\n",
    "        par = squad.get_data()[\"validation\"][i]\n",
    "        file.write(f'{par[\"context\"]}\\n')\n",
    "        file.write(res)\n",
    "\n",
    "    file.close()"
   ]
  },
  {
   "cell_type": "code",
   "execution_count": 33,
   "id": "a78102bc",
   "metadata": {},
   "outputs": [],
   "source": [
    "# save prediction into .json file\n",
    "# Serializing json\n",
    "json_object = json.dumps(final_predictions)\n",
    "\n",
    "# Writing to train_output.json\n",
    "with open(\"test_output.json\", \"w\") as file:\n",
    "    file.write(json_object)\n"
   ]
  },
  {
   "cell_type": "code",
   "execution_count": 35,
   "id": "6a4eb7ea",
   "metadata": {},
   "outputs": [
    {
     "name": "stdout",
     "output_type": "stream",
     "text": [
      "{\n",
      "  \"exact\": 80.9271523178808,\n",
      "  \"f1\": 88.33315849640321,\n",
      "  \"total\": 10570,\n",
      "  \"HasAns_exact\": 80.9271523178808,\n",
      "  \"HasAns_f1\": 88.33315849640321,\n",
      "  \"HasAns_total\": 10570\n",
      "}\n"
     ]
    }
   ],
   "source": [
    "# evaluate output\n",
    "# sys.argv = [\"./src/evaluate-v2.0.py\", os.path.joiAn(\"..\", \"dataset\", \"dev-v1.1.json\"), 'test_output.json']\n",
    "sys.argv = [\"./src/evaluate-v2.0.py\", \"./dataset/dev-v1.1.json\", './test_output.json']\n",
    "\n",
    "exec(open(\"./src/evaluate-v2.0.py\").read())"
   ]
  },
  {
   "cell_type": "code",
   "execution_count": null,
   "id": "a73a15f7",
   "metadata": {},
   "outputs": [],
   "source": [
    "# list of start and end logit used for ensemble\n",
    "lst_start_logits = raw_predictions[0]\n",
    "lst_end_logits = raw_predictions[1]"
   ]
  },
  {
   "cell_type": "code",
   "execution_count": null,
   "id": "50d70474",
   "metadata": {},
   "outputs": [],
   "source": []
  }
 ],
 "metadata": {
  "kernelspec": {
   "display_name": "Python 3 (ipykernel)",
   "language": "python",
   "name": "python3"
  },
  "language_info": {
   "codemirror_mode": {
    "name": "ipython",
    "version": 3
   },
   "file_extension": ".py",
   "mimetype": "text/x-python",
   "name": "python",
   "nbconvert_exporter": "python",
   "pygments_lexer": "ipython3",
   "version": "3.9.12"
  }
 },
 "nbformat": 4,
 "nbformat_minor": 5
}
