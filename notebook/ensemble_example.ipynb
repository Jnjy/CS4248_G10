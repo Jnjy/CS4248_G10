{
 "cells": [
  {
   "cell_type": "markdown",
   "metadata": {},
   "source": [
    "# Ensemble model"
   ]
  },
  {
   "cell_type": "code",
   "execution_count": 1,
   "metadata": {},
   "outputs": [],
   "source": [
    "%load_ext autoreload\n",
    "%autoreload 2"
   ]
  },
  {
   "cell_type": "code",
   "execution_count": 2,
   "metadata": {},
   "outputs": [
    {
     "name": "stderr",
     "output_type": "stream",
     "text": [
      "d:\\anaconda3\\envs\\cs4248\\Lib\\site-packages\\tqdm\\auto.py:21: TqdmWarning: IProgress not found. Please update jupyter and ipywidgets. See https://ipywidgets.readthedocs.io/en/stable/user_install.html\n",
      "  from .autonotebook import tqdm as notebook_tqdm\n"
     ]
    }
   ],
   "source": [
    "import sys\n",
    "sys.path.append(\"../src\")\n",
    "from ensemble import EnsembleModel"
   ]
  },
  {
   "cell_type": "code",
   "execution_count": 3,
   "metadata": {},
   "outputs": [],
   "source": [
    "import torch\n",
    "from transformers import AutoTokenizer, AutoModelForQuestionAnswering, RobertaTokenizerFast"
   ]
  },
  {
   "cell_type": "markdown",
   "metadata": {},
   "source": [
    "## Step 1: Load models"
   ]
  },
  {
   "cell_type": "markdown",
   "metadata": {},
   "source": [
    "### Distilbert"
   ]
  },
  {
   "cell_type": "code",
   "execution_count": 4,
   "metadata": {},
   "outputs": [],
   "source": [
    "distilbert_name = \"jeffnjy/distilbert-base-test\"\n",
    "distilbert_tokenizer = AutoTokenizer.from_pretrained(distilbert_name)\n",
    "distilbert_model = AutoModelForQuestionAnswering.from_pretrained(distilbert_name)"
   ]
  },
  {
   "cell_type": "markdown",
   "metadata": {},
   "source": [
    "### Albert"
   ]
  },
  {
   "cell_type": "code",
   "execution_count": 5,
   "metadata": {},
   "outputs": [],
   "source": [
    "albert_name = \"jeffnjy/albert-base-test\"\n",
    "albert_tokenizer = AutoTokenizer.from_pretrained(albert_name)\n",
    "albert_model = AutoModelForQuestionAnswering.from_pretrained(albert_name)"
   ]
  },
  {
   "cell_type": "markdown",
   "metadata": {},
   "source": [
    "### Roberta"
   ]
  },
  {
   "cell_type": "code",
   "execution_count": 6,
   "metadata": {},
   "outputs": [],
   "source": [
    "roberta_name = \"jeffnjy/roberta-base-test\"\n",
    "roberta_tokenizer = RobertaTokenizerFast.from_pretrained(roberta_name)\n",
    "roberta_model = AutoModelForQuestionAnswering.from_pretrained(roberta_name)"
   ]
  },
  {
   "cell_type": "markdown",
   "metadata": {},
   "source": [
    "### Bert"
   ]
  },
  {
   "cell_type": "code",
   "execution_count": 7,
   "metadata": {},
   "outputs": [],
   "source": [
    "bert_checkpoint = \"../tmp/checkpoint/bert-squad-baseline-model\"\n",
    "bert_tokenizer = AutoTokenizer.from_pretrained(bert_checkpoint, local_files_only=True)\n",
    "bert_model = AutoModelForQuestionAnswering.from_pretrained(bert_checkpoint, local_files_only=True)"
   ]
  },
  {
   "cell_type": "markdown",
   "metadata": {},
   "source": [
    "## Step 2: Create ensemble model"
   ]
  },
  {
   "cell_type": "markdown",
   "metadata": {},
   "source": [
    "The weight of each model can be changed here"
   ]
  },
  {
   "cell_type": "code",
   "execution_count": 8,
   "metadata": {},
   "outputs": [],
   "source": [
    "model_weights = {\n",
    "    \"bert\": 1.0,\n",
    "    \"albert\": 1.0,\n",
    "    \"distilbert\": 1.0,\n",
    "    \"roberta\": 1.0,\n",
    "}\n",
    "device = \"cuda:0\" if torch.cuda.is_available() else \"cpu\""
   ]
  },
  {
   "cell_type": "code",
   "execution_count": 9,
   "metadata": {},
   "outputs": [],
   "source": [
    "ensemble_model = EnsembleModel(device=device)\n",
    "ensemble_model.add_model(model=distilbert_model, tokenizer=distilbert_tokenizer, weight=model_weights[\"distilbert\"])\n",
    "ensemble_model.add_model(model=albert_model, tokenizer=albert_tokenizer, weight=model_weights[\"albert\"])\n",
    "ensemble_model.add_model(model=roberta_model, tokenizer=roberta_tokenizer, weight=model_weights[\"roberta\"])\n",
    "ensemble_model.add_model(model=bert_model, tokenizer=bert_tokenizer, weight=model_weights[\"bert\"])"
   ]
  },
  {
   "cell_type": "markdown",
   "metadata": {},
   "source": [
    "## Step 3: Perform perdiction"
   ]
  },
  {
   "cell_type": "markdown",
   "metadata": {},
   "source": [
    "### 3.a Perform perdiction on one example"
   ]
  },
  {
   "cell_type": "code",
   "execution_count": 10,
   "metadata": {},
   "outputs": [],
   "source": [
    "question = \"Which NFL team represented the AFC at Super Bowl 50?\"\n",
    "context = \"\"\"Super Bowl 50 was an American football game to determine the champion of the National Football League (NFL) \n",
    "for the 2015 season. The American Football Conference (AFC) champion Denver Broncos defeated the National Football \n",
    "Conference (NFC) champion Carolina Panthers 24–10 to earn their third Super Bowl title. The game was played on February \n",
    "7, 2016, at Levi's Stadium in the San Francisco Bay Area at Santa Clara, California. As this was the 50th Super Bowl, the \n",
    "league emphasized the \"golden anniversary\" with various gold-themed initiatives, as well as temporarily suspending the \n",
    "tradition of naming each Super Bowl game with Roman numerals (under which the game would have been known as \"Super Bowl \n",
    "L\"), so that the logo could prominently feature the Arabic numerals 50.\"\"\""
   ]
  },
  {
   "cell_type": "markdown",
   "metadata": {},
   "source": [
    "#### Option 1: Weighted sum of softmax probabilities (mode=\"soft\")"
   ]
  },
  {
   "cell_type": "code",
   "execution_count": 11,
   "metadata": {},
   "outputs": [
    {
     "data": {
      "text/plain": [
       "'Denver Broncos'"
      ]
     },
     "execution_count": 11,
     "metadata": {},
     "output_type": "execute_result"
    }
   ],
   "source": [
    "ensemble_model.predict(question=question, context=context, mode=\"soft\")"
   ]
  },
  {
   "cell_type": "markdown",
   "metadata": {},
   "source": [
    "#### Option 2: Weighted votes (mode=\"hard\")"
   ]
  },
  {
   "cell_type": "code",
   "execution_count": 12,
   "metadata": {},
   "outputs": [
    {
     "data": {
      "text/plain": [
       "'Denver Broncos'"
      ]
     },
     "execution_count": 12,
     "metadata": {},
     "output_type": "execute_result"
    }
   ],
   "source": [
    "ensemble_model.predict(question=question, context=context, mode=\"hard\")"
   ]
  },
  {
   "cell_type": "markdown",
   "metadata": {},
   "source": [
    "### 3.b Perform perdiction on a json dataset and generate a perdiction json file"
   ]
  },
  {
   "cell_type": "code",
   "execution_count": 13,
   "metadata": {},
   "outputs": [
    {
     "name": "stderr",
     "output_type": "stream",
     "text": [
      "100%|██████████| 10570/10570 [40:32<00:00,  4.34it/s] \n"
     ]
    }
   ],
   "source": [
    "inpath = \"../dataset/dev-v1.1.json\"\n",
    "outpath = \"../tmp/prediction/ensemble_all.json\"\n",
    "ensemble_model.generate_prediction_json(inpath, outpath, mode=\"soft\")"
   ]
  }
 ],
 "metadata": {
  "kernelspec": {
   "display_name": "cs4248",
   "language": "python",
   "name": "python3"
  },
  "language_info": {
   "codemirror_mode": {
    "name": "ipython",
    "version": 3
   },
   "file_extension": ".py",
   "mimetype": "text/x-python",
   "name": "python",
   "nbconvert_exporter": "python",
   "pygments_lexer": "ipython3",
   "version": "3.11.4"
  }
 },
 "nbformat": 4,
 "nbformat_minor": 2
}
