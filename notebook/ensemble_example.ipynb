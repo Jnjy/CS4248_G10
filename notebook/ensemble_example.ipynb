{
 "cells": [
  {
   "cell_type": "markdown",
   "metadata": {},
   "source": [
    "# Ensemble model"
   ]
  },
  {
   "cell_type": "code",
   "execution_count": 13,
   "metadata": {},
   "outputs": [
    {
     "name": "stdout",
     "output_type": "stream",
     "text": [
      "The autoreload extension is already loaded. To reload it, use:\n",
      "  %reload_ext autoreload\n"
     ]
    }
   ],
   "source": [
    "%load_ext autoreload\n",
    "%autoreload 2"
   ]
  },
  {
   "cell_type": "code",
   "execution_count": 14,
   "metadata": {},
   "outputs": [],
   "source": [
    "from src.ensemble import EnsembleModel\n",
    "\n",
    "import torch\n",
    "from transformers import AutoTokenizer, AutoModelForQuestionAnswering"
   ]
  },
  {
   "cell_type": "markdown",
   "metadata": {},
   "source": [
    "## Step 1: Load models"
   ]
  },
  {
   "cell_type": "markdown",
   "metadata": {},
   "source": [
    "### Distilbert"
   ]
  },
  {
   "cell_type": "code",
   "execution_count": 15,
   "metadata": {},
   "outputs": [],
   "source": [
    "distilbert_name = \"jeffnjy/distilbert-base-test\"\n",
    "distilbert_tokenizer = AutoTokenizer.from_pretrained(distilbert_name)\n",
    "distilbert_model = AutoModelForQuestionAnswering.from_pretrained(distilbert_name)"
   ]
  },
  {
   "cell_type": "markdown",
   "metadata": {},
   "source": [
    "### Albert"
   ]
  },
  {
   "cell_type": "code",
   "execution_count": 16,
   "metadata": {},
   "outputs": [],
   "source": [
    "albert_name = \"jeffnjy/albert-base\"\n",
    "albert_tokenizer = AutoTokenizer.from_pretrained(albert_name)\n",
    "albert_model = AutoModelForQuestionAnswering.from_pretrained(albert_name)"
   ]
  },
  {
   "cell_type": "markdown",
   "metadata": {},
   "source": [
    "### Roberta"
   ]
  },
  {
   "cell_type": "code",
   "execution_count": 17,
   "metadata": {},
   "outputs": [],
   "source": [
    "roberta_pretrained_name = \"roberta-base\"\n",
    "roberta_local_path = \"./tmp/model/roberta_baseline.pt\"\n",
    "roberta_tokenizer = AutoTokenizer.from_pretrained(roberta_pretrained_name)\n",
    "roberta_model = torch.load(roberta_local_path)"
   ]
  },
  {
   "cell_type": "markdown",
   "metadata": {},
   "source": [
    "### Bert"
   ]
  },
  {
   "cell_type": "code",
   "execution_count": 18,
   "metadata": {},
   "outputs": [],
   "source": [
    "# bert_pretrained_name = \"bert-base-uncased\"\n",
    "# bert_local_path = \"./tmp/model/bert_baseline.pt\"\n",
    "# bert_tokenizer = AutoTokenizer.from_pretrained(bert_pretrained_name)\n",
    "# bert_model = torch.load(bert_local_path)"
   ]
  },
  {
   "cell_type": "code",
   "execution_count": 19,
   "metadata": {},
   "outputs": [],
   "source": [
    "bert_checkpoint = \"./tmp/checkpoint/bert-squad-baseline-model\"\n",
    "bert_tokenizer = AutoTokenizer.from_pretrained(bert_checkpoint, local_files_only=True)\n",
    "bert_model = AutoModelForQuestionAnswering.from_pretrained(bert_checkpoint, local_files_only=True)"
   ]
  },
  {
   "cell_type": "markdown",
   "metadata": {},
   "source": [
    "### XLNet"
   ]
  },
  {
   "cell_type": "code",
   "execution_count": 20,
   "metadata": {},
   "outputs": [
    {
     "name": "stderr",
     "output_type": "stream",
     "text": [
      "Some weights of XLNetForQuestionAnsweringSimple were not initialized from the model checkpoint at ./tmp/checkpoint/XLNET and are newly initialized: ['qa_outputs.weight', 'qa_outputs.bias']\n",
      "You should probably TRAIN this model on a down-stream task to be able to use it for predictions and inference.\n"
     ]
    }
   ],
   "source": [
    "xlnet_checkpoint = \"./tmp/checkpoint/XLNET\"\n",
    "xlnet_tokenizer = AutoTokenizer.from_pretrained(xlnet_checkpoint, local_files_only=True)\n",
    "xlnet_model = AutoModelForQuestionAnswering.from_pretrained(xlnet_checkpoint, local_files_only=True)"
   ]
  },
  {
   "cell_type": "markdown",
   "metadata": {},
   "source": [
    "## Step 2: Create ensemble model"
   ]
  },
  {
   "cell_type": "markdown",
   "metadata": {},
   "source": [
    "The weight of each model can be changed here"
   ]
  },
  {
   "cell_type": "code",
   "execution_count": 21,
   "metadata": {},
   "outputs": [],
   "source": [
    "device = \"cuda:0\" if torch.cuda.is_available() else \"cpu\"\n",
    "ensemble_model = EnsembleModel(device=device)\n",
    "ensemble_model.add_model(model=distilbert_model, tokenizer=distilbert_tokenizer, weight=1.0)\n",
    "ensemble_model.add_model(model=albert_model, tokenizer=albert_tokenizer, weight=1.0)\n",
    "ensemble_model.add_model(model=roberta_model, tokenizer=roberta_tokenizer, weight=1.0)\n",
    "ensemble_model.add_model(model=bert_model, tokenizer=bert_tokenizer, weight=1.0)\n",
    "ensemble_model.add_model(model=xlnet_model, tokenizer=xlnet_tokenizer, weight=1.0)"
   ]
  },
  {
   "cell_type": "markdown",
   "metadata": {},
   "source": [
    "## Step 3: Perform perdiction"
   ]
  },
  {
   "cell_type": "code",
   "execution_count": 22,
   "metadata": {},
   "outputs": [],
   "source": [
    "question = \"How many programming languages does BLOOM support?\"\n",
    "context = \"\"\"BLOOM has 176.5 billion parameters and can generate text in \n",
    "46 languages natural languages and 13.37 programming languages.\"\"\""
   ]
  },
  {
   "cell_type": "markdown",
   "metadata": {},
   "source": [
    "### Option a: Weighted sum of softmax probabilities"
   ]
  },
  {
   "cell_type": "code",
   "execution_count": 23,
   "metadata": {},
   "outputs": [
    {
     "data": {
      "text/plain": [
       "'13.37'"
      ]
     },
     "execution_count": 23,
     "metadata": {},
     "output_type": "execute_result"
    }
   ],
   "source": [
    "ensemble_model.predict(question=question, context=context, mode=\"soft\")"
   ]
  },
  {
   "cell_type": "markdown",
   "metadata": {},
   "source": [
    "### Option b: Weighted votes"
   ]
  },
  {
   "cell_type": "code",
   "execution_count": 24,
   "metadata": {},
   "outputs": [
    {
     "data": {
      "text/plain": [
       "'13.37'"
      ]
     },
     "execution_count": 24,
     "metadata": {},
     "output_type": "execute_result"
    }
   ],
   "source": [
    "ensemble_model.predict(question=question, context=context, mode=\"hard\")"
   ]
  }
 ],
 "metadata": {
  "kernelspec": {
   "display_name": "cs4248",
   "language": "python",
   "name": "python3"
  },
  "language_info": {
   "codemirror_mode": {
    "name": "ipython",
    "version": 3
   },
   "file_extension": ".py",
   "mimetype": "text/x-python",
   "name": "python",
   "nbconvert_exporter": "python",
   "pygments_lexer": "ipython3",
   "version": "3.11.4"
  }
 },
 "nbformat": 4,
 "nbformat_minor": 2
}
